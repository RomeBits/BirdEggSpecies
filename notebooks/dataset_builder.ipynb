{
 "cells": [
  {
   "cell_type": "code",
   "execution_count": 14,
   "metadata": {
    "collapsed": true,
    "pycharm": {
     "name": "#%%\n"
    }
   },
   "outputs": [],
   "source": [
    "import matplotlib.pyplot as plt\n",
    "import pandas as pd\n",
    "import numpy as np\n",
    "import cv2\n",
    "import random\n",
    "import math\n",
    "\n",
    "from src.segment import egg_contours\n",
    "from src.load import load_image\n",
    "from src.bound_eggs import fit_ellipses\n",
    "\n",
    "from tqdm.notebook import tqdm\n",
    "\n",
    "# If we are using PyCharm dark mode, the image will be inverted unless we do this\n",
    "plt.style.use('dark_background')"
   ]
  },
  {
   "cell_type": "code",
   "execution_count": 2,
   "outputs": [],
   "source": [
    "species = ['Hydrobates leucorhous leucorhous',\n",
    " 'Buteo jamaicensis calurus',\n",
    " 'Aquila chrysaetos canadensis',\n",
    " 'Falco mexicanus',\n",
    " 'Rallus obsoletus obsoletus',\n",
    " 'Actitis macularius',\n",
    " 'Chlidonias niger surinamensis',\n",
    " 'Uria aalge californica',\n",
    " 'Aphelocoma californica californica',\n",
    " 'Campylorhynchus brunneicapillus couesi',\n",
    " 'Mimus polyglottos leucopterus',\n",
    " 'Toxostoma bendirei',\n",
    " 'Turdus migratorius propinquus']"
   ],
   "metadata": {
    "collapsed": false,
    "pycharm": {
     "name": "#%%\n"
    }
   }
  },
  {
   "cell_type": "code",
   "execution_count": 3,
   "outputs": [],
   "source": [
    "data = pd.read_csv('../data/California_Egg_Data.csv')"
   ],
   "metadata": {
    "collapsed": false,
    "pycharm": {
     "name": "#%%\n"
    }
   }
  },
  {
   "cell_type": "code",
   "execution_count": 33,
   "outputs": [],
   "source": [
    "dataset = []"
   ],
   "metadata": {
    "collapsed": false,
    "pycharm": {
     "name": "#%%\n"
    }
   }
  },
  {
   "cell_type": "code",
   "execution_count": 34,
   "outputs": [],
   "source": [
    "labels = []"
   ],
   "metadata": {
    "collapsed": false,
    "pycharm": {
     "name": "#%%\n"
    }
   }
  },
  {
   "cell_type": "code",
   "execution_count": 35,
   "outputs": [
    {
     "data": {
      "text/plain": "0it [00:00, ?it/s]",
      "application/vnd.jupyter.widget-view+json": {
       "version_major": 2,
       "version_minor": 0,
       "model_id": "5364f7504e4b4be3ab51d05095a5425f"
      }
     },
     "metadata": {},
     "output_type": "display_data"
    }
   ],
   "source": [
    "for idx, row in tqdm(data.iterrows()):\n",
    "    if row[\"SCIENTIFIC_NAME\"] in species:\n",
    "        dataset.append(load_image(row[\"IMAGE URL\"]))\n",
    "        labels.append(row[\"SCIENTIFIC_NAME\"])"
   ],
   "metadata": {
    "collapsed": false,
    "pycharm": {
     "name": "#%%\n"
    }
   }
  },
  {
   "cell_type": "code",
   "execution_count": 36,
   "outputs": [],
   "source": [
    "train_images = dataset.copy()\n",
    "train_labels = labels.copy()"
   ],
   "metadata": {
    "collapsed": false,
    "pycharm": {
     "name": "#%%\n"
    }
   }
  },
  {
   "cell_type": "code",
   "execution_count": 37,
   "outputs": [],
   "source": [
    "test_images = []\n",
    "test_labels = []"
   ],
   "metadata": {
    "collapsed": false,
    "pycharm": {
     "name": "#%%\n"
    }
   }
  },
  {
   "cell_type": "code",
   "execution_count": 38,
   "outputs": [],
   "source": [
    "for _ in range(215):\n",
    "    r = random.randint(0,len(train_images))\n",
    "\n",
    "    test_labels.append(train_labels.pop(r))\n",
    "    test_images.append(train_images.pop(r))"
   ],
   "metadata": {
    "collapsed": false,
    "pycharm": {
     "name": "#%%\n"
    }
   }
  },
  {
   "cell_type": "code",
   "execution_count": 44,
   "outputs": [],
   "source": [
    "train_contours = []\n",
    "test_contours = []"
   ],
   "metadata": {
    "collapsed": false,
    "pycharm": {
     "name": "#%%\n"
    }
   }
  },
  {
   "cell_type": "code",
   "execution_count": 45,
   "outputs": [
    {
     "data": {
      "text/plain": "  0%|          | 0/600 [00:00<?, ?it/s]",
      "application/vnd.jupyter.widget-view+json": {
       "version_major": 2,
       "version_minor": 0,
       "model_id": "499a271f0f2448caaf8eb90fddfa4a0f"
      }
     },
     "metadata": {},
     "output_type": "display_data"
    },
    {
     "data": {
      "text/plain": "  0%|          | 0/215 [00:00<?, ?it/s]",
      "application/vnd.jupyter.widget-view+json": {
       "version_major": 2,
       "version_minor": 0,
       "model_id": "000fdfeea7904f7da9e0984b9fa3f2ca"
      }
     },
     "metadata": {},
     "output_type": "display_data"
    }
   ],
   "source": [
    "for img in tqdm(train_images):\n",
    "    train_contours.append(egg_contours(img))\n",
    "\n",
    "for img in tqdm(test_images):\n",
    "    test_contours.append(egg_contours(img))"
   ],
   "metadata": {
    "collapsed": false,
    "pycharm": {
     "name": "#%%\n"
    }
   }
  },
  {
   "cell_type": "code",
   "execution_count": 47,
   "outputs": [],
   "source": [
    "train_ellipses = []\n",
    "test_ellipses = []"
   ],
   "metadata": {
    "collapsed": false,
    "pycharm": {
     "name": "#%%\n"
    }
   }
  },
  {
   "cell_type": "code",
   "execution_count": 48,
   "outputs": [
    {
     "data": {
      "text/plain": "  0%|          | 0/600 [00:00<?, ?it/s]",
      "application/vnd.jupyter.widget-view+json": {
       "version_major": 2,
       "version_minor": 0,
       "model_id": "a57e46022b50461bb182586372cf753b"
      }
     },
     "metadata": {},
     "output_type": "display_data"
    },
    {
     "name": "stderr",
     "output_type": "stream",
     "text": [
      "C:\\Users\\benja\\Code\\BirdEggSpecies\\src\\bound_eggs.py:17: VisibleDeprecationWarning: Creating an ndarray from ragged nested sequences (which is a list-or-tuple of lists-or-tuples-or ndarrays with different lengths or shapes) is deprecated. If you meant to do this, you must specify 'dtype=object' when creating the ndarray.\n",
      "  return np.asarray(ellipses)\n"
     ]
    },
    {
     "data": {
      "text/plain": "  0%|          | 0/215 [00:00<?, ?it/s]",
      "application/vnd.jupyter.widget-view+json": {
       "version_major": 2,
       "version_minor": 0,
       "model_id": "d002bd6d3d6a4adc9b72bbfe90e947ac"
      }
     },
     "metadata": {},
     "output_type": "display_data"
    }
   ],
   "source": [
    "for contour in tqdm(train_contours):\n",
    "    train_ellipses.append(fit_ellipses(contour, len(contour)))\n",
    "\n",
    "for contour in tqdm(test_contours):\n",
    "    test_ellipses.append(fit_ellipses(contour, len(contour)))"
   ],
   "metadata": {
    "collapsed": false,
    "pycharm": {
     "name": "#%%\n"
    }
   }
  },
  {
   "cell_type": "code",
   "execution_count": 49,
   "outputs": [],
   "source": [
    "def get_sub_image(rect, src):\n",
    "    # Get center, size, and angle from rect\n",
    "    center, size, theta = rect\n",
    "    # Convert to int\n",
    "    center, size = tuple(map(int, center)), tuple(map(int, size))\n",
    "    # Get rotation matrix for rectangle\n",
    "    m = cv2.getRotationMatrix2D( center, theta, 1)\n",
    "    # Perform rotation on src image\n",
    "    dst = cv2.warpAffine(src, m, (src.shape[1],src.shape[0]))\n",
    "    out = cv2.getRectSubPix(dst, size, center)\n",
    "    return out\n",
    "\n",
    "def contours_to_imgs(img, contours, output_shape=(64,64)):\n",
    "    imgs = []\n",
    "    for c in contours:\n",
    "        #plt.imshow(cv2.drawContours(img,[rect], -1, (255,0,0)))\n",
    "        imgs.append(cv2.resize(get_sub_image(cv2.minAreaRect(c), img.copy()), output_shape))\n",
    "    return imgs"
   ],
   "metadata": {
    "collapsed": false,
    "pycharm": {
     "name": "#%%\n"
    }
   }
  },
  {
   "cell_type": "code",
   "execution_count": 72,
   "outputs": [],
   "source": [
    "el = contours[10]\n",
    "img = dataset[10]"
   ],
   "metadata": {
    "collapsed": false,
    "pycharm": {
     "name": "#%%\n"
    }
   }
  },
  {
   "cell_type": "code",
   "execution_count": 73,
   "outputs": [],
   "source": [
    "#plt.imshow(cv2.drawContours(img, el, -1, (255,255,255)))"
   ],
   "metadata": {
    "collapsed": false,
    "pycharm": {
     "name": "#%%\n"
    }
   }
  },
  {
   "cell_type": "code",
   "execution_count": 74,
   "outputs": [],
   "source": [
    "t = contours_to_imgs(img, el)"
   ],
   "metadata": {
    "collapsed": false,
    "pycharm": {
     "name": "#%%\n"
    }
   }
  },
  {
   "cell_type": "code",
   "execution_count": 75,
   "outputs": [
    {
     "data": {
      "text/plain": "<matplotlib.image.AxesImage at 0x1fdd943f5e0>"
     },
     "execution_count": 75,
     "metadata": {},
     "output_type": "execute_result"
    },
    {
     "data": {
      "text/plain": "<Figure size 640x480 with 1 Axes>",
      "image/png": "[encoded data removed]"
     },
     "metadata": {},
     "output_type": "display_data"
    }
   ],
   "source": [
    "plt.imshow(t[0])"
   ],
   "metadata": {
    "collapsed": false,
    "pycharm": {
     "name": "#%%\n"
    }
   }
  },
  {
   "cell_type": "code",
   "execution_count": 50,
   "outputs": [],
   "source": [
    "test_imgs = []\n",
    "test_img_labels = []\n",
    "for img, contour, label in zip(test_images, test_contours, test_labels):\n",
    "    for x in contours_to_imgs(img, contour):\n",
    "        test_imgs.append(x)\n",
    "        test_img_labels.append(label)"
   ],
   "metadata": {
    "collapsed": false,
    "pycharm": {
     "name": "#%%\n"
    }
   }
  },
  {
   "cell_type": "code",
   "execution_count": 51,
   "outputs": [],
   "source": [
    "train_imgs = []\n",
    "train_img_labels = []\n",
    "for img, contour, label in zip(train_images, train_contours, train_labels):\n",
    "    for x in contours_to_imgs(img, contour):\n",
    "        train_imgs.append(x)\n",
    "        train_img_labels.append(label)"
   ],
   "metadata": {
    "collapsed": false,
    "pycharm": {
     "name": "#%%\n"
    }
   }
  },
  {
   "cell_type": "code",
   "execution_count": 52,
   "outputs": [],
   "source": [
    "test_imgs = np.stack(test_imgs, axis=0)\n",
    "test_img_labels = np.asarray(test_img_labels)\n",
    "\n",
    "train_imgs = np.stack(train_imgs, axis=0)\n",
    "train_img_labels = np.asarray(train_img_labels)"
   ],
   "metadata": {
    "collapsed": false,
    "pycharm": {
     "name": "#%%\n"
    }
   }
  },
  {
   "cell_type": "code",
   "execution_count": 53,
   "outputs": [],
   "source": [
    "np.savez_compressed(\"../data/train_dataset.npz\", X=train_imgs, Y=train_img_labels)\n",
    "np.savez_compressed(\"../data/test_dataset.npz\", X=test_imgs, Y=test_img_labels)"
   ],
   "metadata": {
    "collapsed": false,
    "pycharm": {
     "name": "#%%\n"
    }
   }
  },
  {
   "cell_type": "code",
   "execution_count": 54,
   "outputs": [],
   "source": [
    "ftestdata = np.load(\"../data/train_dataset.npz\", allow_pickle=True)[\"Y\"]\n",
    "ftraindata = np.load(\"../data/test_dataset.npz\", allow_pickle=True)[\"Y\"]"
   ],
   "metadata": {
    "collapsed": false,
    "pycharm": {
     "name": "#%%\n"
    }
   }
  },
  {
   "cell_type": "code",
   "execution_count": 55,
   "outputs": [],
   "source": [
    "from sklearn.preprocessing import LabelEncoder\n",
    "import pickle\n",
    "\n",
    "encoder1 = LabelEncoder()\n",
    "encoder1 = encoder1.fit(ftraindata)\n",
    "with open(\"../data/objects/train.pkl\", \"wb+\") as f:\n",
    "    pickle.dump(encoder1, f)\n",
    "\n",
    "encoder2 = LabelEncoder()\n",
    "encoder2 = encoder2.fit(ftestdata)\n",
    "with open(\"../data/objects/test.pkl\", \"wb+\") as f:\n",
    "    pickle.dump(encoder2, f)"
   ],
   "metadata": {
    "collapsed": false,
    "pycharm": {
     "name": "#%%\n"
    }
   }
  }
 ],
 "metadata": {
  "kernelspec": {
   "display_name": "Python 3",
   "language": "python",
   "name": "python3"
  },
  "language_info": {
   "codemirror_mode": {
    "name": "ipython",
    "version": 2
   },
   "file_extension": ".py",
   "mimetype": "text/x-python",
   "name": "python",
   "nbconvert_exporter": "python",
   "pygments_lexer": "ipython2",
   "version": "2.7.6"
  }
 },
 "nbformat": 4,
 "nbformat_minor": 0
}